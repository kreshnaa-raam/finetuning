{
 "cells": [
  {
   "cell_type": "markdown",
   "metadata": {},
   "source": [
    "# Initialize finetuned model"
   ]
  },
  {
   "cell_type": "code",
   "execution_count": 1,
   "metadata": {},
   "outputs": [],
   "source": [
    "from openai import OpenAI\n",
    "import os\n",
    "from dotenv import load_dotenv\n",
    "\n",
    "# Load environment variables from the .env file\n",
    "load_dotenv()\n",
    "\n",
    "# Get the OpenAI API key from the environment variable\n",
    "#openai_api_key = os.getenv(\"OPENAI_API_KEY\")\n",
    "openai_api_key = \"sk-proj-8Hk2JncypIMD1OGtXwSrT3BlbkFJFHAUFp5BLb2VJsxcCLVr\"  # hard coded the api key with read-only access here for this demo\n",
    "client = OpenAI(api_key=openai_api_key)\n",
    "\n",
    "\n",
    "ft_model = client.fine_tuning.jobs.retrieve(\"ftjob-UuEgkubgXVNJDjmL494oIXDr\").fine_tuned_model # this is the model id from the finetuned model\n",
    "def generate_response(input_query):\n",
    "  completion = client.chat.completions.create(\n",
    "    model=ft_model,\n",
    "    messages=[\n",
    "      {\"role\": \"system\", \"content\": \"You're a Customer Support Bot.\"},\n",
    "      {\"role\": \"user\", \"content\": f\"{input_query}\"}\n",
    "    ]\n",
    "  )\n",
    "  return print(completion.choices[0].message.content)"
   ]
  },
  {
   "cell_type": "markdown",
   "metadata": {},
   "source": [
    "# Add your input query here"
   ]
  },
  {
   "cell_type": "code",
   "execution_count": 2,
   "metadata": {},
   "outputs": [
    {
     "name": "stdout",
     "output_type": "stream",
     "text": [
      "We can look into that for you. Can you please provide the tracking number or order details?\n"
     ]
    }
   ],
   "source": [
    "input_query = 'Where is my shipment?'\n",
    "generate_response(input_query)"
   ]
  },
  {
   "cell_type": "code",
   "execution_count": null,
   "metadata": {},
   "outputs": [],
   "source": []
  }
 ],
 "metadata": {
  "kernelspec": {
   "display_name": "ft-pesto",
   "language": "python",
   "name": "python3"
  },
  "language_info": {
   "codemirror_mode": {
    "name": "ipython",
    "version": 3
   },
   "file_extension": ".py",
   "mimetype": "text/x-python",
   "name": "python",
   "nbconvert_exporter": "python",
   "pygments_lexer": "ipython3",
   "version": "3.12.3"
  }
 },
 "nbformat": 4,
 "nbformat_minor": 2
}
